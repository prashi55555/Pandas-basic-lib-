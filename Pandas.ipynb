{
 "cells": [
  {
   "cell_type": "markdown",
   "metadata": {
    "colab_type": "text",
    "id": "7vET1BaPE2Sb"
   },
   "source": [
    "# Introduction to Pandas dataframe"
   ]
  },
  {
   "cell_type": "markdown",
   "metadata": {
    "colab_type": "text",
    "id": "r4jcxC41E2Sd"
   },
   "source": [
    "Data frame is a main object in pandas. It is used to represent data with rows and columns\n",
    "\n",
    "Data frame is a datastructure represent the data in tabular or excel spread sheet like data)"
   ]
  },
  {
   "cell_type": "markdown",
   "metadata": {
    "colab_type": "text",
    "id": "zrr_PrIDE2Se"
   },
   "source": [
    "**creating dataframe:**"
   ]
  },
  {
   "cell_type": "code",
   "execution_count": 1,
   "metadata": {
    "colab": {},
    "colab_type": "code",
    "id": "YoCSJNVFE2Sg",
    "outputId": "4e465819-da2f-4c29-bd8b-13022cd89277"
   },
   "outputs": [],
   "source": [
    "#read weather.csv data"
   ]
  },
  {
   "cell_type": "code",
   "execution_count": 2,
   "metadata": {
    "colab": {},
    "colab_type": "code",
    "id": "8K3vksgGE2Sp",
    "outputId": "f5ae1ecc-2de4-4bb8-bbef-dfe0b80c29ce",
    "scrolled": true
   },
   "outputs": [
    {
     "ename": "NameError",
     "evalue": "name 'pd' is not defined",
     "output_type": "error",
     "traceback": [
      "\u001b[1;31m---------------------------------------------------------------------------\u001b[0m",
      "\u001b[1;31mNameError\u001b[0m                                 Traceback (most recent call last)",
      "\u001b[1;32m<ipython-input-2-30c6c23ba4bd>\u001b[0m in \u001b[0;36m<module>\u001b[1;34m\u001b[0m\n\u001b[0;32m      8\u001b[0m                 \u001b[1;33m(\u001b[0m\u001b[1;34m'1/6/2017'\u001b[0m\u001b[1;33m,\u001b[0m \u001b[1;36m31\u001b[0m\u001b[1;33m,\u001b[0m \u001b[1;36m2\u001b[0m\u001b[1;33m,\u001b[0m \u001b[1;34m'Sunny'\u001b[0m\u001b[1;33m)\u001b[0m\u001b[1;33m\u001b[0m\u001b[1;33m\u001b[0m\u001b[0m\n\u001b[0;32m      9\u001b[0m                ]\n\u001b[1;32m---> 10\u001b[1;33m \u001b[0mdf\u001b[0m \u001b[1;33m=\u001b[0m \u001b[0mpd\u001b[0m\u001b[1;33m.\u001b[0m\u001b[0mDataFrame\u001b[0m\u001b[1;33m(\u001b[0m\u001b[0mweather_data\u001b[0m\u001b[1;33m,\u001b[0m \u001b[0mcolumns\u001b[0m\u001b[1;33m=\u001b[0m\u001b[1;33m[\u001b[0m\u001b[1;34m'day'\u001b[0m\u001b[1;33m,\u001b[0m \u001b[1;34m'temperature'\u001b[0m\u001b[1;33m,\u001b[0m \u001b[1;34m'windspeed'\u001b[0m\u001b[1;33m,\u001b[0m \u001b[1;34m'event'\u001b[0m\u001b[1;33m]\u001b[0m\u001b[1;33m)\u001b[0m\u001b[1;33m\u001b[0m\u001b[1;33m\u001b[0m\u001b[0m\n\u001b[0m\u001b[0;32m     11\u001b[0m \u001b[0mdf\u001b[0m\u001b[1;33m\u001b[0m\u001b[1;33m\u001b[0m\u001b[0m\n",
      "\u001b[1;31mNameError\u001b[0m: name 'pd' is not defined"
     ]
    }
   ],
   "source": [
    "#list of tuples\n",
    "\n",
    "weather_data = [('1/1/2017', 32, 6, 'Rain'),\n",
    "                ('1/2/2017', 35, 7, 'Sunny'),\n",
    "                ('1/3/2017', 28, 2, 'Snow'),\n",
    "                ('1/4/2017', 24, 7, 'Snow'),\n",
    "                ('1/5/2017', 32, 4, 'Rain'),\n",
    "                ('1/6/2017', 31, 2, 'Sunny')\n",
    "               ]\n",
    "df = pd.DataFrame(weather_data, columns=['day', 'temperature', 'windspeed', 'event'])\n",
    "df"
   ]
  },
  {
   "cell_type": "code",
   "execution_count": 3,
   "metadata": {
    "colab": {},
    "colab_type": "code",
    "id": "uaeYPoNIE2St",
    "outputId": "f4dc4a5a-8a3c-44bc-9af2-047768bda050"
   },
   "outputs": [],
   "source": [
    "#get dimentions of the table\n",
    "\n",
    "   #total number of rows and columns"
   ]
  },
  {
   "cell_type": "code",
   "execution_count": 4,
   "metadata": {
    "colab": {},
    "colab_type": "code",
    "id": "6aaD_jAxE2Sx",
    "outputId": "18a50237-12bd-4268-9053-f2fc2d2cdc43"
   },
   "outputs": [],
   "source": [
    "#if you want to see initial some rows then use head command (default 5 rows)\n"
   ]
  },
  {
   "cell_type": "code",
   "execution_count": 5,
   "metadata": {
    "colab": {},
    "colab_type": "code",
    "id": "UxLwacUpE2S4",
    "outputId": "79603545-12a4-4d36-9ab1-6de6cfb60ae6"
   },
   "outputs": [],
   "source": [
    "#if you want to see last few rows then use tail command (default last 5 rows will print)\n"
   ]
  },
  {
   "cell_type": "code",
   "execution_count": 6,
   "metadata": {
    "colab": {},
    "colab_type": "code",
    "id": "xWkZ7rqAE2S8",
    "outputId": "935837e9-5a8a-4aac-ce26-bbddd9c3bd5f"
   },
   "outputs": [],
   "source": [
    "#slicing\n"
   ]
  },
  {
   "cell_type": "code",
   "execution_count": 8,
   "metadata": {
    "colab": {},
    "colab_type": "code",
    "id": "TQUyOoktE2TB",
    "outputId": "083c82f6-41d6-4a7f-dd03-75d8218a6746"
   },
   "outputs": [],
   "source": [
    "  #print columns in a table"
   ]
  },
  {
   "cell_type": "code",
   "execution_count": 7,
   "metadata": {
    "colab": {},
    "colab_type": "code",
    "id": "s1vnbMmuE2TG",
    "outputId": "7903f35b-882b-4cac-b8a8-0aed51d655d0"
   },
   "outputs": [],
   "source": [
    "   #print particular column data"
   ]
  },
  {
   "cell_type": "code",
   "execution_count": 9,
   "metadata": {
    "colab": {},
    "colab_type": "code",
    "id": "V9rPH1YFE2TK",
    "outputId": "df20a1fe-651c-4e18-cbd9-e2ded3d637da"
   },
   "outputs": [],
   "source": [
    "#another way of accessing column\n",
    "            #df.day (both are same)"
   ]
  },
  {
   "cell_type": "code",
   "execution_count": 10,
   "metadata": {
    "colab": {},
    "colab_type": "code",
    "id": "MbsjOYiCE2TN",
    "outputId": "d0d1b487-7623-46aa-f980-02de70f9305c"
   },
   "outputs": [],
   "source": [
    "#get 2 or more columns\n"
   ]
  },
  {
   "cell_type": "code",
   "execution_count": 11,
   "metadata": {
    "colab": {},
    "colab_type": "code",
    "id": "lrr51XzfE2TR",
    "outputId": "449f85ed-808e-4f86-df48-3170e2420d76"
   },
   "outputs": [],
   "source": [
    "#get all temperatures\n"
   ]
  },
  {
   "cell_type": "code",
   "execution_count": 13,
   "metadata": {
    "colab": {},
    "colab_type": "code",
    "id": "RDbcg0FhE2TV",
    "outputId": "1bda9a4d-9774-4e53-fa46-954a1000c864"
   },
   "outputs": [],
   "source": [
    "#print max temperature\n"
   ]
  },
  {
   "cell_type": "code",
   "execution_count": 14,
   "metadata": {
    "colab": {},
    "colab_type": "code",
    "id": "xIKB8jvjE2Ta",
    "outputId": "1b6ae228-bd62-4bea-fc78-b80f870ed83a"
   },
   "outputs": [],
   "source": [
    "#print max temperature\n"
   ]
  },
  {
   "cell_type": "code",
   "execution_count": 15,
   "metadata": {
    "colab": {},
    "colab_type": "code",
    "id": "0uWj9DdXE2Te",
    "outputId": "dcb7b3a3-c928-4a0c-e1dd-97f7f98e8c41"
   },
   "outputs": [],
   "source": [
    "#print max temperature\n"
   ]
  },
  {
   "cell_type": "code",
   "execution_count": 16,
   "metadata": {
    "colab": {},
    "colab_type": "code",
    "id": "f7yFrONKE2Th",
    "outputId": "0453933b-844a-44de-b0df-783beb4c3dcd"
   },
   "outputs": [],
   "source": [
    "# select rows which has maximum temperature\n"
   ]
  },
  {
   "cell_type": "code",
   "execution_count": 17,
   "metadata": {
    "colab": {},
    "colab_type": "code",
    "id": "NBaLglmXE2Tk",
    "outputId": "2aa0863a-316e-46f5-df5b-8020d166d6e8"
   },
   "outputs": [],
   "source": [
    "#select only day column which has maximum temperature\n"
   ]
  },
  {
   "cell_type": "code",
   "execution_count": 0,
   "metadata": {
    "colab": {},
    "colab_type": "code",
    "id": "yTYTt6QSE2To"
   },
   "outputs": [],
   "source": []
  }
 ],
 "metadata": {
  "colab": {
   "name": "pandas_workshop.ipynb",
   "provenance": [],
   "version": "0.3.2"
  },
  "kernelspec": {
   "display_name": "Python 3",
   "language": "python",
   "name": "python3"
  },
  "language_info": {
   "codemirror_mode": {
    "name": "ipython",
    "version": 3
   },
   "file_extension": ".py",
   "mimetype": "text/x-python",
   "name": "python",
   "nbconvert_exporter": "python",
   "pygments_lexer": "ipython3",
   "version": "3.7.7"
  }
 },
 "nbformat": 4,
 "nbformat_minor": 1
}
